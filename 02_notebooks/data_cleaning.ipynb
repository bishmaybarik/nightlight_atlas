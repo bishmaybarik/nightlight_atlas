{
 "cells": [
  {
   "cell_type": "code",
   "execution_count": 1,
   "metadata": {},
   "outputs": [
    {
     "name": "stdout",
     "output_type": "stream",
     "text": [
      "DMSP: 0 duplicate rows found based on ['shrid2', 'year', 'dmsp_f_version']\n",
      "VIIRS: 0 duplicate rows found based on ['shrid2', 'year', 'category']\n",
      "Rural Consumption: 0 duplicate rows found based on ['shrid2']\n",
      "Urban Consumption: 0 duplicate rows found based on ['shrid2']\n",
      "DMSP: Standardized `shrid2`\n",
      "VIIRS: Standardized `shrid2`\n",
      "Rural Consumption: Standardized `shrid2`\n",
      "Urban Consumption: Standardized `shrid2`\n",
      "DMSP Year Range: 1994 - 2013\n",
      "VIIRS Year Range: 2012 - 2023\n",
      "Rural Dataset Year Range: SECC does not have a `year` column (cross-sectional).\n",
      "Urban Dataset Year Range: SECC does not have a `year` column (cross-sectional).\n"
     ]
    }
   ],
   "source": [
    "import pandas as pd\n",
    "\n",
    "# Load datasets (adjust file paths if needed)\n",
    "dmsp_df = pd.read_csv('/Users/bishmaybarik/Library/CloudStorage/OneDrive-ShivNadarInstitutionofEminence/nightlight_atlas/01_data/01_raw/shrug-dmsp-csv/dmsp_shrid.csv')\n",
    "viirs_df = pd.read_csv('/Users/bishmaybarik/Library/CloudStorage/OneDrive-ShivNadarInstitutionofEminence/nightlight_atlas/01_data/01_raw/shrug-viirs-annual-csv/viirs_annual_shrid.csv')\n",
    "rural_df = pd.read_csv('/Users/bishmaybarik/Library/CloudStorage/OneDrive-ShivNadarInstitutionofEminence/nightlight_atlas/01_data/01_raw/shrug-secc-cons-rural-csv/secc_cons_rural_shrid.csv')\n",
    "urban_df = pd.read_csv('/Users/bishmaybarik/Library/CloudStorage/OneDrive-ShivNadarInstitutionofEminence/nightlight_atlas/01_data/01_raw/shrug-secc-cons-urban-csv/secc_cons_urban_shrid.csv')\n",
    "\n",
    "# 1. Checking duplicates\n",
    "def check_duplicates(df, id_columns, dataset_name):\n",
    "    duplicates = df.duplicated(subset=id_columns).sum()\n",
    "    print(f\"{dataset_name}: {duplicates} duplicate rows found based on {id_columns}\")\n",
    "\n",
    "check_duplicates(dmsp_df, ['shrid2', 'year', 'dmsp_f_version'], \"DMSP\")\n",
    "check_duplicates(viirs_df, ['shrid2', 'year', 'category'], \"VIIRS\")\n",
    "check_duplicates(rural_df, ['shrid2'], \"Rural Consumption\")\n",
    "check_duplicates(urban_df, ['shrid2'], \"Urban Consumption\")\n",
    "\n",
    "# 2. Standardizing `shrid2`\n",
    "datasets = {'DMSP': dmsp_df, 'VIIRS': viirs_df, 'Rural Consumption': rural_df, 'Urban Consumption': urban_df}\n",
    "\n",
    "for name, df in datasets.items():\n",
    "    df['shrid2'] = df['shrid2'].str.strip().str.lower()\n",
    "    print(f\"{name}: Standardized `shrid2`\")\n",
    "\n",
    "# 3. Examining year ranges\n",
    "if 'year' in dmsp_df.columns:\n",
    "    print(f\"DMSP Year Range: {dmsp_df['year'].min()} - {dmsp_df['year'].max()}\")\n",
    "if 'year' in viirs_df.columns:\n",
    "    print(f\"VIIRS Year Range: {viirs_df['year'].min()} - {viirs_df['year'].max()}\")\n",
    "\n",
    "# Summarizing dataframes\n",
    "print(\"Rural Dataset Year Range: SECC does not have a `year` column (cross-sectional).\")\n",
    "print(\"Urban Dataset Year Range: SECC does not have a `year` column (cross-sectional).\")\n"
   ]
  },
  {
   "cell_type": "code",
   "execution_count": 2,
   "metadata": {},
   "outputs": [
    {
     "name": "stdout",
     "output_type": "stream",
     "text": [
      "Merged Dataset Summary:\n",
      "<class 'pandas.core.frame.DataFrame'>\n",
      "RangeIndex: 567429 entries, 0 to 567428\n",
      "Data columns (total 22 columns):\n",
      " #   Column                          Non-Null Count   Dtype  \n",
      "---  ------                          --------------   -----  \n",
      " 0   shrid2                          567429 non-null  object \n",
      " 1   secc_cons_rural                 563741 non-null  float64\n",
      " 2   secc_cons_pc_rural              563741 non-null  float64\n",
      " 3   secc_pov_rate_rural             563741 non-null  float64\n",
      " 4   secc_pov_rate_tend_rural        563741 non-null  float64\n",
      " 5   _mean_p_miss                    567429 non-null  float64\n",
      " 6   _core_p_miss                    567429 non-null  float64\n",
      " 7   _target_weight_share            567429 non-null  float64\n",
      " 8   _target_group_max_weight_share  567429 non-null  float64\n",
      " 9   dmsp_max_light                  567429 non-null  int64  \n",
      " 10  dmsp_total_light                567429 non-null  int64  \n",
      " 11  dmsp_total_light_cal            567429 non-null  float64\n",
      " 12  dmsp_mean_light                 567429 non-null  float64\n",
      " 13  dmsp_mean_light_cal             567429 non-null  float64\n",
      " 14  dmsp_num_cells                  567429 non-null  int64  \n",
      " 15  dmsp_f_version                  567429 non-null  object \n",
      " 16  year                            567429 non-null  int64  \n",
      " 17  area_type                       567429 non-null  object \n",
      " 18  secc_cons_urban                 3688 non-null    float64\n",
      " 19  secc_cons_pc_urban              3688 non-null    float64\n",
      " 20  secc_pov_rate_urban             3688 non-null    float64\n",
      " 21  secc_pov_rate_tend_urban        3688 non-null    float64\n",
      "dtypes: float64(15), int64(4), object(3)\n",
      "memory usage: 95.2+ MB\n",
      "None\n",
      "Dataset saved to /Users/bishmaybarik/Library/CloudStorage/OneDrive-ShivNadarInstitutionofEminence/nightlight_atlas/01_data/02_processed/secc_combined.csv\n"
     ]
    }
   ],
   "source": [
    "# Subset DMSP data for 2011\n",
    "dmsp_2011 = dmsp_df[dmsp_df['year'] == 2011]\n",
    "\n",
    "# Merge DMSP with SECC rural and urban datasets\n",
    "rural_merged = pd.merge(rural_df, dmsp_2011, on='shrid2', how='inner')\n",
    "urban_merged = pd.merge(urban_df, dmsp_2011, on='shrid2', how='inner')\n",
    "\n",
    "# Combine rural and urban datasets for comprehensive analysis\n",
    "secc_combined = pd.concat([\n",
    "    rural_merged.assign(area_type='rural'), \n",
    "    urban_merged.assign(area_type='urban')\n",
    "], ignore_index=True)\n",
    "\n",
    "# Verify the merge\n",
    "print(\"Merged Dataset Summary:\")\n",
    "print(secc_combined.info())\n",
    "\n",
    "# Save the combined dataset to the specified path\n",
    "output_path = \"/Users/bishmaybarik/Library/CloudStorage/OneDrive-ShivNadarInstitutionofEminence/nightlight_atlas/01_data/02_processed/secc_combined.csv\"\n",
    "secc_combined.to_csv(output_path, index=False)\n",
    "print(f\"Dataset saved to {output_path}\")\n"
   ]
  },
  {
   "cell_type": "code",
   "execution_count": 3,
   "metadata": {},
   "outputs": [
    {
     "name": "stdout",
     "output_type": "stream",
     "text": [
      "Updated Dataset Summary:\n",
      "<class 'pandas.core.frame.DataFrame'>\n",
      "RangeIndex: 567429 entries, 0 to 567428\n",
      "Data columns (total 18 columns):\n",
      " #   Column                          Non-Null Count   Dtype  \n",
      "---  ------                          --------------   -----  \n",
      " 0   shrid2                          567429 non-null  object \n",
      " 1   _mean_p_miss                    567429 non-null  float64\n",
      " 2   _core_p_miss                    567429 non-null  float64\n",
      " 3   _target_weight_share            567429 non-null  float64\n",
      " 4   _target_group_max_weight_share  567429 non-null  float64\n",
      " 5   dmsp_max_light                  567429 non-null  int64  \n",
      " 6   dmsp_total_light                567429 non-null  int64  \n",
      " 7   dmsp_total_light_cal            567429 non-null  float64\n",
      " 8   dmsp_mean_light                 567429 non-null  float64\n",
      " 9   dmsp_mean_light_cal             567429 non-null  float64\n",
      " 10  dmsp_num_cells                  567429 non-null  int64  \n",
      " 11  dmsp_f_version                  567429 non-null  object \n",
      " 12  year                            567429 non-null  int64  \n",
      " 13  area_type                       567429 non-null  object \n",
      " 14  secc_cons                       567429 non-null  float64\n",
      " 15  secc_cons_pc                    567429 non-null  float64\n",
      " 16  secc_pov_rate                   567429 non-null  float64\n",
      " 17  secc_pov_rate_tend              567429 non-null  float64\n",
      "dtypes: float64(11), int64(4), object(3)\n",
      "memory usage: 77.9+ MB\n",
      "None\n",
      "Updated dataset saved to /Users/bishmaybarik/Library/CloudStorage/OneDrive-ShivNadarInstitutionofEminence/nightlight_atlas/01_data/02_processed/secc_combined_updated.csv\n"
     ]
    }
   ],
   "source": [
    "# Creating new variables by combining rural and urban values\n",
    "secc_combined['secc_cons'] = secc_combined['secc_cons_rural'].combine_first(secc_combined['secc_cons_urban'])\n",
    "secc_combined['secc_cons_pc'] = secc_combined['secc_cons_pc_rural'].combine_first(secc_combined['secc_cons_pc_urban'])\n",
    "secc_combined['secc_pov_rate'] = secc_combined['secc_pov_rate_rural'].combine_first(secc_combined['secc_pov_rate_urban'])\n",
    "secc_combined['secc_pov_rate_tend'] = secc_combined['secc_pov_rate_tend_rural'].combine_first(secc_combined['secc_pov_rate_tend_urban'])\n",
    "\n",
    "# Dropping the original rural and urban variables\n",
    "columns_to_drop = [\n",
    "    'secc_cons_rural', 'secc_cons_pc_rural', 'secc_pov_rate_rural', 'secc_pov_rate_tend_rural',\n",
    "    'secc_cons_urban', 'secc_cons_pc_urban', 'secc_pov_rate_urban', 'secc_pov_rate_tend_urban'\n",
    "]\n",
    "secc_combined.drop(columns=columns_to_drop, inplace=True)\n",
    "\n",
    "# Verify the updated dataset\n",
    "print(\"Updated Dataset Summary:\")\n",
    "print(secc_combined.info())\n",
    "\n",
    "# Saving the updated dataset\n",
    "updated_output_path = \"/Users/bishmaybarik/Library/CloudStorage/OneDrive-ShivNadarInstitutionofEminence/nightlight_atlas/01_data/02_processed/secc_combined_updated.csv\"\n",
    "secc_combined.to_csv(updated_output_path, index=False)\n",
    "print(f\"Updated dataset saved to {updated_output_path}\")\n"
   ]
  },
  {
   "cell_type": "code",
   "execution_count": null,
   "metadata": {},
   "outputs": [],
   "source": []
  }
 ],
 "metadata": {
  "kernelspec": {
   "display_name": "Python 3",
   "language": "python",
   "name": "python3"
  },
  "language_info": {
   "codemirror_mode": {
    "name": "ipython",
    "version": 3
   },
   "file_extension": ".py",
   "mimetype": "text/x-python",
   "name": "python",
   "nbconvert_exporter": "python",
   "pygments_lexer": "ipython3",
   "version": "3.12.4"
  }
 },
 "nbformat": 4,
 "nbformat_minor": 2
}
